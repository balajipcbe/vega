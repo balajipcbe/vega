{
 "cells": [
  {
   "cell_type": "markdown",
   "metadata": {},
   "source": [
    "#### Naming Conventions\n",
    "-----------------------\n",
    "Classes - CapitalizedCameCase\n",
    "Objects - snake_case"
   ]
  },
  {
   "cell_type": "code",
   "execution_count": 10,
   "metadata": {},
   "outputs": [
    {
     "name": "stdout",
     "output_type": "stream",
     "text": [
      "Python object creations\n",
      "<class 'float'>\n",
      "<class 'str'>\n",
      "<class 'tuple'>\n"
     ]
    }
   ],
   "source": [
    "circumference_diameter_ratio = 355/113\n",
    "target_color_name = 'FireBrick'\n",
    "target_color_rgb = (178, 34, 34)\n",
    "\n",
    "print(\"Python object creations\")\n",
    "print(type(circumference_diameter_ratio))\n",
    "print(type(target_color_name))\n",
    "print(type(target_color_rgb))"
   ]
  },
  {
   "cell_type": "code",
   "execution_count": 11,
   "metadata": {},
   "outputs": [
    {
     "name": "stdout",
     "output_type": "stream",
     "text": [
      "True\n"
     ]
    }
   ],
   "source": [
    "#This snippet shows both variable points to same string object\n",
    "target_color_name = first_color_name = \"Firebrick\"\n",
    "print(id(target_color_name) == id(first_color_name))"
   ]
  },
  {
   "cell_type": "raw",
   "metadata": {},
   "source": [
    "Large Number Vs Small Numbers\n",
    "-----------------------------\n",
    "Small Numbers - 2, 0xff, b'\\xfe'. 4 or 8 bytes\n",
    "Large Numbers - 2**2048, 52!. sequence of digits"
   ]
  },
  {
   "cell_type": "code",
   "execution_count": 21,
   "metadata": {},
   "outputs": [
    {
     "name": "stdout",
     "output_type": "stream",
     "text": [
      "Number of bits in sys.maxsize : 63.0\n",
      "Number of bits above maxsize : sys.int_info(bits_per_digit=30, sizeof_digit=4)\n"
     ]
    }
   ],
   "source": [
    "#Python internals\n",
    "import sys\n",
    "import math\n",
    "print(\"Number of bits in sys.maxsize :\", math.log(sys.maxsize,2))\n",
    "print(\"Number of bits above maxsize :\", sys.int_info)"
   ]
  },
  {
   "cell_type": "raw",
   "metadata": {},
   "source": [
    "Secret Object Pool\n",
    "------------------\n",
    "Python maintains a secret object pool ranges from -5 to 256\n"
   ]
  },
  {
   "cell_type": "code",
   "execution_count": 24,
   "metadata": {},
   "outputs": [
    {
     "name": "stdout",
     "output_type": "stream",
     "text": [
      "4357034016\n",
      "4357042176\n",
      "4357034016\n",
      "4357042176\n"
     ]
    }
   ],
   "source": [
    "print(id(1))\n",
    "print(id(256))\n",
    "a = 1\n",
    "print(id(a))\n",
    "a = a + 255\n",
    "print(id(a))"
   ]
  },
  {
   "cell_type": "raw",
   "metadata": {},
   "source": [
    "How big is 2**2048"
   ]
  },
  {
   "cell_type": "code",
   "execution_count": 25,
   "metadata": {},
   "outputs": [
    {
     "name": "stdout",
     "output_type": "stream",
     "text": [
      "617\n"
     ]
    }
   ],
   "source": [
    "print(len(str(2**2048)))"
   ]
  },
  {
   "cell_type": "raw",
   "metadata": {},
   "source": [
    "Python3 uses two different division operators. \n",
    "1) divmod pair produces quotient and remainder.\n",
    "2) true division operator produces floating point approximate value. \n",
    "It will apply on fractional objects as well."
   ]
  },
  {
   "cell_type": "code",
   "execution_count": 28,
   "metadata": {},
   "outputs": [
    {
     "name": "stdout",
     "output_type": "stream",
     "text": [
      "2 2 25\n"
     ]
    }
   ],
   "source": [
    "#div_mod pair\n",
    "total_seconds = 7345\n",
    "hours, remaining_seconds = divmod(total_seconds,3600)\n",
    "minutes, seconds = divmod(remaining_seconds, 60)\n",
    "print(hours,minutes,seconds)"
   ]
  },
  {
   "cell_type": "code",
   "execution_count": 29,
   "metadata": {},
   "outputs": [
    {
     "name": "stdout",
     "output_type": "stream",
     "text": [
      "2.040277777777778\n",
      "2.0403\n"
     ]
    }
   ],
   "source": [
    "#two integers produces floating point value\n",
    "hours = 7345 / 3600\n",
    "print(hours)\n",
    "print(round(hours,4))"
   ]
  },
  {
   "cell_type": "code",
   "execution_count": 33,
   "metadata": {},
   "outputs": [
    {
     "name": "stdout",
     "output_type": "stream",
     "text": [
      "1469/720\n",
      "2.0403\n"
     ]
    }
   ],
   "source": [
    "#integer and Fraction object produces Fraction object\n",
    "from fractions import Fraction\n",
    "total_seconds = Fraction(7345)\n",
    "hours = total_seconds/3600\n",
    "print(hours)\n",
    "print(round(float(hours),4))"
   ]
  },
  {
   "cell_type": "raw",
   "metadata": {},
   "source": [
    "String is immutable in Python."
   ]
  },
  {
   "cell_type": "code",
   "execution_count": 34,
   "metadata": {},
   "outputs": [
    {
     "ename": "TypeError",
     "evalue": "'str' object does not support item assignment",
     "output_type": "error",
     "traceback": [
      "\u001b[0;31m---------------------------------------------------------------------------\u001b[0m",
      "\u001b[0;31mTypeError\u001b[0m                                 Traceback (most recent call last)",
      "\u001b[0;32m<ipython-input-34-c01ec1102d14>\u001b[0m in \u001b[0;36m<module>\u001b[0;34m\u001b[0m\n\u001b[1;32m      1\u001b[0m \u001b[0mtitle\u001b[0m \u001b[0;34m=\u001b[0m \u001b[0;34m'Rewriting the string'\u001b[0m\u001b[0;34m\u001b[0m\u001b[0m\n\u001b[0;32m----> 2\u001b[0;31m \u001b[0mtitle\u001b[0m\u001b[0;34m[\u001b[0m\u001b[0;36m4\u001b[0m\u001b[0;34m]\u001b[0m \u001b[0;34m=\u001b[0m \u001b[0;34m''\u001b[0m\u001b[0;34m\u001b[0m\u001b[0m\n\u001b[0m",
      "\u001b[0;31mTypeError\u001b[0m: 'str' object does not support item assignment"
     ]
    }
   ],
   "source": [
    "title = 'Rewriting the string'\n",
    "title[4] = ''"
   ]
  },
  {
   "cell_type": "raw",
   "metadata": {},
   "source": [
    "All string operations will follow string's variable object replacement\n",
    "some_string = some_string.method()\n",
    "some_string = some_string[:chop_index]\n",
    "some_string holds new string object and old string object gets into garbage automatically."
   ]
  },
  {
   "cell_type": "code",
   "execution_count": 47,
   "metadata": {},
   "outputs": [
    {
     "name": "stdout",
     "output_type": "stream",
     "text": [
      "8\n",
      "Recipe 5  Rewriting, and the  Immutable String \n",
      "Recipe 5 :  Rewriting, and the  Immutable String \n",
      "_Rewriting,_and_the__Immutable_String_\n",
      "_rewriting,_and_the__immutable_string_\n",
      "Before id: 4400146456\n",
      "rewriting,_and_the__immutable_string\n",
      "After id: 4400146896\n",
      "g S\n"
     ]
    }
   ],
   "source": [
    "title = \"Recipe 5: Rewriting, and the  Immutable String \"\n",
    "index = title.index(':')\n",
    "print(index)\n",
    "\n",
    "discard_text, post_colon_text = title[:index],title[index+1:]\n",
    "print(discard_text,post_colon_text)\n",
    "\n",
    "pre,_,post = title.partition(':')\n",
    "print(pre,_,post)\n",
    "\n",
    "post_colon_text = post_colon_text.replace(' ','_')\n",
    "print(post_colon_text)\n",
    "\n",
    "post_colon_text = post_colon_text.lower()\n",
    "print(post_colon_text)\n",
    "\n",
    "print('Before id:',id(post_colon_text))\n",
    "post_colon_text = post_colon_text.strip('_')\n",
    "print(post_colon_text)\n",
    "print('After id:',id(post_colon_text))\n",
    "\n",
    "#alternate indexing\n",
    "print(title[-2],title[-7])"
   ]
  },
  {
   "cell_type": "raw",
   "metadata": {},
   "source": [
    "String Parsing with Regular expression\n",
    "1. Generalize the given string (ingredient words): (amount digits) (unit words)\n",
    "2. import re\n",
    "3. write pattern text\n",
    "4. compile pattern text\n",
    "5. Match pattern against input\n",
    "6. Extract group from matched object"
   ]
  },
  {
   "cell_type": "code",
   "execution_count": 5,
   "metadata": {},
   "outputs": [
    {
     "name": "stdout",
     "output_type": "stream",
     "text": [
      "('Kumquat', '2', 'cups')\n",
      "Kumquat\n",
      "2\n",
      "cups\n"
     ]
    }
   ],
   "source": [
    "import re\n",
    "ingredient = \"Kumquat: 2 cups\"\n",
    "# r - raw string, ?P<name> - fields , \\w+ - words, \\d+ - digits\n",
    "pattern_text = r'(?P<ingredient>\\w+):\\s+(?P<amount>\\d+)\\s+(?P<unit>\\w+)'\n",
    "pattern = re.compile(pattern_text)\n",
    "match = pattern.match(ingredient)\n",
    "if match:\n",
    "    print(match.groups())\n",
    "    print(match.group('ingredient'))\n",
    "    print(match.group('amount'))\n",
    "    print(match.group('unit'))\n"
   ]
  },
  {
   "cell_type": "raw",
   "metadata": {},
   "source": [
    "Building complex strings\n",
    "1. Create template string format. '{id} : {location} : {min_temp} / {max_temp} / {precipitation}'\n",
    "2. append datatype. '{id:s} : {location:s} : {min_temp:d} / {max_temp:d} / {precipitation:f}'\n",
    "3. add length info (optional) '{id:3s} : {location:19s} : {min_temp:3d} / {max_temp:3d} / {precipitation:5.2f}'\n",
    "4. use format method \n",
    "'{id:3s} : {location:19s} : {min_temp:3d} / {max_temp:3d} / {precipitation:5.2f}'.\n",
    "format(id=id,location=location, min_temp=min_temp, max_temp=max_temp,precipitation=precipitation)\n",
    "5. Alternate approach - using dictionary\n",
    "data = dict(id=id,location=location, min_temp=min_temp, max_temp=max_temp,precipitation=precipitation)\n",
    "'{id:3s} : {location:19s} : {min_temp:3d} / {max_temp:3d} / {precipitation:5.2f}'.format_map(data)\n",
    "6. vars() builds dictionary of locals: format_map(vars())"
   ]
  },
  {
   "cell_type": "code",
   "execution_count": 1,
   "metadata": {},
   "outputs": [
    {
     "name": "stdout",
     "output_type": "stream",
     "text": [
      "<class 'str'>\n",
      "<class 'list'>\n"
     ]
    }
   ],
   "source": [
    "title = 'Receipe 5: Rewriting an immutable string' #immutable\n",
    "title_list = list(title) #mutable\n",
    "print(type(title))\n",
    "print(type(title_list))"
   ]
  },
  {
   "cell_type": "code",
   "execution_count": 3,
   "metadata": {},
   "outputs": [
    {
     "name": "stdout",
     "output_type": "stream",
     "text": [
      "!\"#$%&'()*+,-./:;<=>?@[\\]^_`{|}~\n"
     ]
    }
   ],
   "source": [
    "from string import punctuation,whitespace\n",
    "print(punctuation)"
   ]
  },
  {
   "cell_type": "code",
   "execution_count": 5,
   "metadata": {},
   "outputs": [
    {
     "name": "stdout",
     "output_type": "stream",
     "text": [
      " \t\n",
      "\r",
      "\u000b",
      "\f",
      "\n"
     ]
    }
   ],
   "source": [
    "from string import whitespace\n",
    "print(whitespace) #non print characters"
   ]
  },
  {
   "cell_type": "code",
   "execution_count": 8,
   "metadata": {},
   "outputs": [
    {
     "name": "stdout",
     "output_type": "stream",
     "text": [
      "8\n"
     ]
    }
   ],
   "source": [
    "title = 'Receipe 5: Rewriting an immutable string' #immutable\n",
    "print(title.index('5'))\n",
    "# print(title.index('Z')) ValueError"
   ]
  },
  {
   "cell_type": "code",
   "execution_count": 12,
   "metadata": {},
   "outputs": [
    {
     "name": "stdout",
     "output_type": "stream",
     "text": [
      " Rewriting an immutable string\n"
     ]
    }
   ],
   "source": [
    "title = 'Receipe 5: Rewriting an immutable string' #immutable\n",
    "title_list = list(title) #convert to mutable list\n",
    "del title_list[:title.index(':')+1] #modify \n",
    "title = ''.join(title_list) #convert to immutable string\n",
    "print(title)"
   ]
  },
  {
   "cell_type": "code",
   "execution_count": 18,
   "metadata": {},
   "outputs": [
    {
     "name": "stdout",
     "output_type": "stream",
     "text": [
      "You rolled ⚀\n",
      "You drew 🀀\n",
      "Discard 🀄\n",
      "\\w+\n"
     ]
    }
   ],
   "source": [
    "print('You rolled \\u2680') #unicode representation-1\n",
    "print('You drew \\U0001F000') #repr-2\n",
    "print('Discard \\N{MAHJONG TILE RED DRAGON}') #name format\n"
   ]
  },
  {
   "cell_type": "code",
   "execution_count": null,
   "metadata": {},
   "outputs": [],
   "source": []
  }
 ],
 "metadata": {
  "kernelspec": {
   "display_name": "Python 3",
   "language": "python",
   "name": "python3"
  },
  "language_info": {
   "codemirror_mode": {
    "name": "ipython",
    "version": 3
   },
   "file_extension": ".py",
   "mimetype": "text/x-python",
   "name": "python",
   "nbconvert_exporter": "python",
   "pygments_lexer": "ipython3",
   "version": "3.7.0"
  }
 },
 "nbformat": 4,
 "nbformat_minor": 2
}
